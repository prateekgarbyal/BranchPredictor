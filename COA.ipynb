{
 "cells": [
  {
   "cell_type": "code",
   "execution_count": 1,
   "metadata": {
    "collapsed": false,
    "scrolled": false
   },
   "outputs": [],
   "source": [
    "import math\n",
    "import sys\n",
    "#filename='training_set.csv'\n",
    "\n",
    "#data=np.loadtxt(filename, delimiter=',', skiprows=1)\n",
    "\n",
    "myinput=[]\n",
    "actual=[]\n",
    "localpre=[]\n",
    "globalpre=[]\n",
    "selector=[]\n",
    "selectorpre=[]\n",
    "localindex=[]\n",
    "final=[]\n",
    "output=[]\n",
    "\n",
    "\n",
    "f = open(\"sample_branch_sequence.txt\")\n",
    "myinput = f.read().split('\\n')\n",
    "\n",
    "for x in range (0,len(myinput)-1):\n",
    "    actual.append(myinput[x][1])\n",
    "\n",
    "localp=['00']*10\n",
    "\n",
    "selector=['00']*10\n",
    "\n",
    "globalp=['00']*64\n",
    "\n",
    "globaladd='000000'"
   ]
  },
  {
   "cell_type": "code",
   "execution_count": 2,
   "metadata": {
    "collapsed": false,
    "scrolled": true
   },
   "outputs": [],
   "source": [
    "for x in range(0,len(myinput)-1):\n",
    "    localindex=int(myinput[x][0])\n",
    "    \n",
    "    if localp[localindex]=='00' or localp[localindex]=='01': \n",
    "        localpre.append('n')\n",
    "    else:\n",
    "        localpre.append('t')\n",
    "    #print(localpre[x])\n",
    "    if actual[x]=='t':\n",
    "        if localp[localindex]=='00':\n",
    "            localp[localindex]='01'\n",
    "            \n",
    "        elif localp[localindex]=='01':\n",
    "            localp[localindex]='10'\n",
    "            \n",
    "        elif localp[localindex]=='10':\n",
    "            localp[localindex]='11'\n",
    "            \n",
    "        else:\n",
    "            localp[localindex]='11'\n",
    "    \n",
    "    if actual[x]=='n':\n",
    "        if localp[localindex]=='00':\n",
    "            localp[localindex]='00'\n",
    "            \n",
    "        elif localp[localindex]=='01':\n",
    "            localp[localindex]='00'\n",
    "            \n",
    "        elif localp[localindex]=='10':\n",
    "            localp[localindex]='01'\n",
    "            \n",
    "        else:\n",
    "            localp[localindex]='10'\n",
    " "
   ]
  },
  {
   "cell_type": "code",
   "execution_count": 3,
   "metadata": {
    "collapsed": false
   },
   "outputs": [],
   "source": [
    "for x in range(0,len(myinput)-1):\n",
    "    globalindex=int(globaladd, 2)\n",
    "    \n",
    "    if globalp[globalindex]=='00' or globalp[globalindex]=='01': \n",
    "        globalpre.append('n')\n",
    "    else:\n",
    "        globalpre.append('t')\n",
    "    #print(localpre[x])\n",
    "    if actual[x]=='t':\n",
    "        if globalp[globalindex]=='00':\n",
    "            globalp[globalindex]='01'\n",
    "            \n",
    "        elif globalp[globalindex]=='01':\n",
    "            globalp[globalindex]='10'\n",
    "            \n",
    "        elif globalp[globalindex]=='10':\n",
    "            globalp[globalindex]='11'\n",
    "            \n",
    "        else:\n",
    "            globalp[globalindex]='11'\n",
    "    \n",
    "    if actual[x]=='n':\n",
    "        if globalp[globalindex]=='00':\n",
    "            globalp[globalindex]='00'\n",
    "            \n",
    "        elif globalp[globalindex]=='01':\n",
    "            globalp[globalindex]='00'\n",
    "            \n",
    "        elif globalp[globalindex]=='10':\n",
    "            globalp[globalindex]='01'\n",
    "            \n",
    "        else:\n",
    "            globalp[globalindex]='10'\n",
    "        \n",
    "    globaladd=str(globaladd[1:])\n",
    "    if actual[x]=='t' :\n",
    "        globaladd=globaladd +'1'\n",
    "    else:\n",
    "        globaladd=globaladd +'0'"
   ]
  },
  {
   "cell_type": "code",
   "execution_count": 4,
   "metadata": {
    "collapsed": false
   },
   "outputs": [],
   "source": [
    "for x in range(0,len(myinput)-1):\n",
    "    localindex=int(myinput[x][0])\n",
    "    \n",
    "    if selector[localindex]=='00' or selector[localindex]=='01': \n",
    "        selectorpre.append('l')\n",
    "    else:\n",
    "        selectorpre.append('g')\n",
    "        \n",
    "    #print(localpre[x])\n",
    "    if (localpre[x]!=globalpre[x]):\n",
    "        if (localpre[x]==actual[x]):\n",
    "            if selector[localindex]=='00':\n",
    "                selector[localindex]='00'\n",
    "\n",
    "            elif selector[localindex]=='01':\n",
    "                selector[localindex]='00'\n",
    "\n",
    "            elif selector[localindex]=='10':\n",
    "                selector[localindex]='01'\n",
    "\n",
    "            else:\n",
    "                selector[localindex]='10'\n",
    "\n",
    "        else:\n",
    "            if selector[localindex]=='00':\n",
    "                selector[localindex]='01'\n",
    "\n",
    "            elif selector[localindex]=='01':\n",
    "                selector[localindex]='10'\n",
    "\n",
    "            elif selector[localindex]=='10':\n",
    "                selector[localindex]='11'\n",
    "\n",
    "            else:\n",
    "                selector[localindex]='11'"
   ]
  },
  {
   "cell_type": "code",
   "execution_count": 5,
   "metadata": {
    "collapsed": false
   },
   "outputs": [],
   "source": [
    "for x in range(0,len(myinput)-1):\n",
    "    if selectorpre[x]=='l':\n",
    "        final.append(localpre[x])\n",
    "    else:\n",
    "        final.append(globalpre[x])"
   ]
  },
  {
   "cell_type": "code",
   "execution_count": 6,
   "metadata": {
    "collapsed": false
   },
   "outputs": [
    {
     "name": "stdout",
     "output_type": "stream",
     "text": [
      "1a!\n"
     ]
    }
   ],
   "source": [
    "a=['1','2','3','4']\n",
    "b=['a','b','c','d']\n",
    "c=['!','@','#','$']\n",
    "print(a[0]+b[0]+c[0])"
   ]
  },
  {
   "cell_type": "code",
   "execution_count": 7,
   "metadata": {
    "collapsed": false
   },
   "outputs": [],
   "source": [
    "for x in range(0,len(myinput)-1):\n",
    "    output.append(myinput[x][0]+localpre[x]+globalpre[x]+selectorpre[x]+final[x]+actual[x])"
   ]
  },
  {
   "cell_type": "code",
   "execution_count": 8,
   "metadata": {
    "collapsed": false
   },
   "outputs": [
    {
     "data": {
      "text/plain": [
       "69999"
      ]
     },
     "execution_count": 8,
     "metadata": {},
     "output_type": "execute_result"
    }
   ],
   "source": [
    "outputfile = open('myoutput.txt', 'w')\n",
    "outputfile.write(\"\\n\".join(output))"
   ]
  },
  {
   "cell_type": "code",
   "execution_count": 9,
   "metadata": {
    "collapsed": false
   },
   "outputs": [
    {
     "name": "stdout",
     "output_type": "stream",
     "text": [
      "9266\n"
     ]
    }
   ],
   "source": [
    "count=0\n",
    "for x in range(0,len(myinput)-1):\n",
    "    if actual[x]==globalpre[x]:\n",
    "        count=count+1\n",
    "print(count)"
   ]
  }
 ],
 "metadata": {
  "kernelspec": {
   "display_name": "Python 3",
   "language": "python",
   "name": "python3"
  },
  "language_info": {
   "codemirror_mode": {
    "name": "ipython",
    "version": 3
   },
   "file_extension": ".py",
   "mimetype": "text/x-python",
   "name": "python",
   "nbconvert_exporter": "python",
   "pygments_lexer": "ipython3",
   "version": "3.6.0"
  }
 },
 "nbformat": 4,
 "nbformat_minor": 2
}
